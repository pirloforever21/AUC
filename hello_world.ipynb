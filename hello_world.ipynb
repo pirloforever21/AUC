{
 "cells": [
  {
   "cell_type": "code",
   "execution_count": 3,
   "metadata": {},
   "outputs": [
    {
     "name": "stdout",
     "output_type": "stream",
     "text": [
      "1\n",
      "x\n",
      "2\n",
      "y\n"
     ]
    }
   ],
   "source": [
    "a = [1,2]\n",
    "b = ['x','y']\n",
    "for A,B in zip(a,b):\n",
    "    print(A)\n",
    "    print(B)"
   ]
  },
  {
   "cell_type": "code",
   "execution_count": 4,
   "metadata": {},
   "outputs": [],
   "source": [
    "NAME = ['hinge','logistic']\n",
    "ALG = ['SAUC','OAM']\n",
    "for name in NAME:\n",
    "    for alg in ALG:\n",
    "        a[(name,alg)] = len(name)"
   ]
  },
  {
   "cell_type": "code",
   "execution_count": 5,
   "metadata": {},
   "outputs": [
    {
     "data": {
      "text/plain": [
       "{('hinge', 'OAM'): 5,\n",
       " ('hinge', 'SAUC'): 5,\n",
       " ('logistic', 'OAM'): 8,\n",
       " ('logistic', 'SAUC'): 8,\n",
       " 'hinge': 5,\n",
       " 'logistic': 8}"
      ]
     },
     "execution_count": 5,
     "metadata": {},
     "output_type": "execute_result"
    }
   ],
   "source": [
    "a"
   ]
  },
  {
   "cell_type": "code",
   "execution_count": 3,
   "metadata": {},
   "outputs": [],
   "source": [
    "import numpy as np\n",
    "import time"
   ]
  },
  {
   "cell_type": "code",
   "execution_count": 38,
   "metadata": {},
   "outputs": [],
   "source": [
    "n = np.arange(10000)+2\n",
    "log2 = lambda x: log(x)/log(2)\n",
    "m = np.zeros(10000)\n",
    "for i in range(10000):\n",
    "    m[i] = floor(log2(2*n[i]/log2(n[i]))/2) - 1"
   ]
  },
  {
   "cell_type": "code",
   "execution_count": 5,
   "metadata": {},
   "outputs": [],
   "source": [
    "y = 1\n",
    "a = np.random.rand(100)\n",
    "b = np.random.rand(100)\n",
    "c = np.random.rand(100)"
   ]
  },
  {
   "cell_type": "code",
   "execution_count": 6,
   "metadata": {},
   "outputs": [
    {
     "name": "stdout",
     "output_type": "stream",
     "text": [
      "0.00026869773864746094\n"
     ]
    }
   ],
   "source": [
    "start = time.time()\n",
    "if y == 1:\n",
    "    x = np.inner(a,b) \n",
    "else:\n",
    "    x = np.inner(b,c)\n",
    "print(time.time() - start)"
   ]
  },
  {
   "cell_type": "code",
   "execution_count": 7,
   "metadata": {},
   "outputs": [
    {
     "name": "stdout",
     "output_type": "stream",
     "text": [
      "0.0003979206085205078\n"
     ]
    }
   ],
   "source": [
    "start = time.time()\n",
    "x = np.inner(a,b) * (1+y)//2 + np.inner(b,c) * (1-y)//2\n",
    "print(time.time() - start)"
   ]
  },
  {
   "cell_type": "code",
   "execution_count": null,
   "metadata": {},
   "outputs": [],
   "source": [
    "comb_dict = {0:{0:1},1:{0:1,1:1},2:{0:1,1:2,2:1},3:{0:1,1:3,2:3,3:1},4:{0:1,1:4,2:6,3:4,4:1},\n",
    "             5:{0:1,1:5,2:10,3:10,4:5,5:1},6:{0:1,1:6,2:15,3:20,4:15,5:6,6:1},\n",
    "             7:{0:1,1:7,2:21,3:35,4:35,5:21,6:7,7:1},8:{0:1,1:8,2:28,3:56,4:70,5:56,6:28,7:8,8:1},\n",
    "             9:{0:1,1:9,2:36,3:84,4:126,5:126,6:84,7:36,8:9,9:1},\n",
    "             10:{0:1,1:10,2:45,3:120,4:210,5:252,6:210,7:120,8:45,9:10,10:1}}"
   ]
  }
 ],
 "metadata": {
  "kernelspec": {
   "display_name": "Python 3",
   "language": "python",
   "name": "python3"
  },
  "language_info": {
   "codemirror_mode": {
    "name": "ipython",
    "version": 3
   },
   "file_extension": ".py",
   "mimetype": "text/x-python",
   "name": "python",
   "nbconvert_exporter": "python",
   "pygments_lexer": "ipython3",
   "version": "3.5.2"
  }
 },
 "nbformat": 4,
 "nbformat_minor": 2
}
